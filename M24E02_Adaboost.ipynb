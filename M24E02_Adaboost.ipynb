{
 "cells": [
  {
   "cell_type": "markdown",
   "id": "45fb3caf-7a5a-444e-83c1-c0841f72b157",
   "metadata": {},
   "source": [
    "# M24E02_ADABOOST\n",
    "### Aluna: Cristina Freitas"
   ]
  },
  {
   "cell_type": "markdown",
   "id": "20d0b7f9-877b-4e99-8982-23f383d85b15",
   "metadata": {},
   "source": [
    "\n",
    "### Exercício 2:\n",
    "### Acesse  o material e crie um Jupyter Notebook contendo um exemplo de Adaboost"
   ]
  },
  {
   "cell_type": "code",
   "execution_count": 7,
   "id": "828e126c-598d-49cf-8cbd-846cd0ebfaf3",
   "metadata": {},
   "outputs": [
    {
     "name": "stdout",
     "output_type": "stream",
     "text": [
      "CPU times: total: 2.64 s\n",
      "Wall time: 813 ms\n"
     ]
    },
    {
     "data": {
      "text/plain": [
       "0.8965"
      ]
     },
     "execution_count": 7,
     "metadata": {},
     "output_type": "execute_result"
    }
   ],
   "source": [
    "%%time\n",
    "\n",
    "## implementação ADABOOST\n",
    "\n",
    "from sklearn.model_selection import GridSearchCV\n",
    "from sklearn.ensemble import HistGradientBoostingClassifier\n",
    "from sklearn.datasets import make_hastie_10_2\n",
    "\n",
    "X, y = make_hastie_10_2(random_state=0)\n",
    "X_train, X_test = X[:2000], X[2000:]\n",
    "y_train, y_test = y[:2000], y[2000:]\n",
    "\n",
    "clf = HistGradientBoostingClassifier(max_iter=100).fit(X_train, y_train)\n",
    "clf.score(X_test, y_test)"
   ]
  },
  {
   "cell_type": "markdown",
   "id": "6b3e2422-bc78-43a2-b1c6-f18284b08651",
   "metadata": {},
   "source": [
    "### Exercício 4:\n",
    "### Utilize o GridSearch para encontrar os melhores hiperparametros para um conjunto de dados do exemplo (load_iris)"
   ]
  },
  {
   "cell_type": "code",
   "execution_count": 6,
   "id": "c505d9ad-746c-4269-997d-635946f0a6a7",
   "metadata": {},
   "outputs": [
    {
     "name": "stderr",
     "output_type": "stream",
     "text": [
      "C:\\Users\\Cristina\\anaconda3\\Lib\\site-packages\\sklearn\\ensemble\\_weight_boosting.py:527: FutureWarning: The SAMME.R algorithm (the default) is deprecated and will be removed in 1.6. Use the SAMME algorithm to circumvent this warning.\n",
      "  warnings.warn(\n"
     ]
    },
    {
     "name": "stdout",
     "output_type": "stream",
     "text": [
      "Melhores Hiperparâmetros: {'learning_rate': 1.0, 'n_estimators': 100}\n",
      "Melhor Acurácia: 0.9333333333333333\n",
      "Acurácia no Conjunto de Teste: 1.0\n"
     ]
    }
   ],
   "source": [
    "import numpy as np\n",
    "from sklearn.datasets import load_iris\n",
    "from sklearn.model_selection import train_test_split, GridSearchCV\n",
    "from sklearn.ensemble import AdaBoostClassifier\n",
    "from sklearn.tree import DecisionTreeClassifier\n",
    "\n",
    "# Carregar o conjunto de dados Iris\n",
    "iris = load_iris()\n",
    "X, y = iris.data, iris.target\n",
    "\n",
    "# Dividir o conjunto de dados em treino e teste\n",
    "X_train, X_test, y_train, y_test = train_test_split(X, y, test_size=0.3, random_state=42)\n",
    "\n",
    "# Criar o modelo AdaBoost com o classificador padrão\n",
    "ada = AdaBoostClassifier()\n",
    "\n",
    "# Definir os hiperparâmetros para o GridSearch\n",
    "param_grid = {\n",
    "    'n_estimators': [50, 100, 200],\n",
    "    'learning_rate': [0.01, 0.1, 1.0],\n",
    "}\n",
    "\n",
    "# Configurar o GridSearchCV\n",
    "grid_search = GridSearchCV(estimator=ada, param_grid=param_grid,\n",
    "                           scoring='accuracy', cv=5, n_jobs=-1)\n",
    "\n",
    "# Treinar o modelo\n",
    "grid_search.fit(X_train, y_train)\n",
    "\n",
    "# Resultados\n",
    "print(\"Melhores Hiperparâmetros:\", grid_search.best_params_)\n",
    "print(\"Melhor Acurácia:\", grid_search.best_score_)\n",
    "\n",
    "# Avaliar no conjunto de teste\n",
    "best_model = grid_search.best_estimator_\n",
    "test_accuracy = best_model.score(X_test, y_test)\n",
    "print(\"Acurácia no Conjunto de Teste:\", test_accuracy)\n",
    "\n"
   ]
  }
 ],
 "metadata": {
  "kernelspec": {
   "display_name": "Python 3 (ipykernel)",
   "language": "python",
   "name": "python3"
  },
  "language_info": {
   "codemirror_mode": {
    "name": "ipython",
    "version": 3
   },
   "file_extension": ".py",
   "mimetype": "text/x-python",
   "name": "python",
   "nbconvert_exporter": "python",
   "pygments_lexer": "ipython3",
   "version": "3.11.7"
  }
 },
 "nbformat": 4,
 "nbformat_minor": 5
}
